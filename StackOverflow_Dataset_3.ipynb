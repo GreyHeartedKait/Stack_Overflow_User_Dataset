{
 "cells": [
  {
   "cell_type": "markdown",
   "id": "a5633040-a84e-435a-9ab3-764663816238",
   "metadata": {
    "tags": []
   },
   "source": [
    "# Code for Creating a Reputation-Answer Dataset\n",
    "*Author*: K. Elizabeth Bui \n",
    "*Version*: 3, 12/13/2022"
   ]
  },
  {
   "cell_type": "markdown",
   "id": "3b7cd484-5902-464f-b755-cb880d8bbb2a",
   "metadata": {},
   "source": [
    "## Purpose\n",
    "This code aims to create and analyze a dataset made from StackOverflow user and answer post data derived from StackExchange."
   ]
  },
  {
   "cell_type": "markdown",
   "id": "47a07e5e-aa55-4d7d-9bf4-07ebd6bb33d0",
   "metadata": {
    "tags": []
   },
   "source": [
    "## Creating the Dataset\n",
    "The dataset will combine two queried datasets from [StackExchange](https://data.stackexchange.com/stackoverflow/query/new). The first .csv, futher referred to as users, contains columns id and reputation. The second .csv, answers, contains 5 columns: id, score, commentcount, owneruserid, and body. The resulting data set will have columns reputation and answer, where answer entries are lists of lists containing single answer statistics. These individual answer statistics have the format \\[score, comment count, answer length\\]."
   ]
  },
  {
   "cell_type": "markdown",
   "id": "4d3cae4f-cae4-4302-9189-b0a80d58e195",
   "metadata": {},
   "source": [
    "### Import all data and libraries"
   ]
  },
  {
   "cell_type": "code",
   "execution_count": 2,
   "id": "207d115c-685d-4eb5-b303-0b8bb94ffc87",
   "metadata": {},
   "outputs": [],
   "source": [
    "import pandas as pd\n",
    "pd.options.display.float_format = '{:,.2f}'.format\n",
    "\n",
    "# Queried .csv files \n",
    "user_file = 'User_Dataset_4.csv'\n",
    "answer_file = 'answer_dataset_2.csv'\n",
    "\n",
    "# Convert the .csv files to dataframes\n",
    "users = pd.read_csv(user_file)\n",
    "answers = pd.read_csv(answer_file)"
   ]
  },
  {
   "cell_type": "code",
   "execution_count": 3,
   "id": "56357197-0137-48ab-8cc4-ac2e7108d537",
   "metadata": {},
   "outputs": [],
   "source": [
    "dataset = pd.DataFrame(columns = ['reputation', 'answers'])"
   ]
  },
  {
   "cell_type": "markdown",
   "id": "2de8dfcd-f2e1-406f-8fb0-b182a8fb79d5",
   "metadata": {
    "tags": []
   },
   "source": [
    "### Combine user and answer information"
   ]
  },
  {
   "cell_type": "code",
   "execution_count": 4,
   "id": "a20f8627-6c88-46b0-a686-c688c4550a3b",
   "metadata": {},
   "outputs": [],
   "source": [
    "# Parse through each user\n",
    "for i in range(users.shape[0]):\n",
    "    \n",
    "    # Filter for answers written by user \n",
    "    idfilter = answers['owneruserid'].isin([users.loc[i,'id']])\n",
    "    users_answers = answers[idfilter]\n",
    "    users_answers=users_answers.reset_index(drop=True)\n",
    "    \n",
    "    answers_list = []\n",
    "    # Take each answer and input it's data into a list\n",
    "    for j in range(users_answers.shape[0]):\n",
    "        single_answer = [users_answers.loc[j, 'score'], users_answers.loc[j, 'commentcount'], len(users_answers.loc[j,'body'])]\n",
    "        # Add the single answer list into the complete answers list\n",
    "        answers_list.append(single_answer)\n",
    "    \n",
    "    # if the user has written any answers, add the user and their answers into the main dataset\n",
    "    if len(answers_list) > 0:\n",
    "        dataset=dataset.append({'reputation': users.iloc[i,1], 'answers': answers_list}, ignore_index = True)"
   ]
  },
  {
   "cell_type": "code",
   "execution_count": 5,
   "id": "6f442d87-d498-486f-a959-dc1942849cdd",
   "metadata": {},
   "outputs": [
    {
     "data": {
      "text/html": [
       "<div>\n",
       "<style scoped>\n",
       "    .dataframe tbody tr th:only-of-type {\n",
       "        vertical-align: middle;\n",
       "    }\n",
       "\n",
       "    .dataframe tbody tr th {\n",
       "        vertical-align: top;\n",
       "    }\n",
       "\n",
       "    .dataframe thead th {\n",
       "        text-align: right;\n",
       "    }\n",
       "</style>\n",
       "<table border=\"1\" class=\"dataframe\">\n",
       "  <thead>\n",
       "    <tr style=\"text-align: right;\">\n",
       "      <th></th>\n",
       "      <th>reputation</th>\n",
       "      <th>answers</th>\n",
       "    </tr>\n",
       "  </thead>\n",
       "  <tbody>\n",
       "    <tr>\n",
       "      <th>0</th>\n",
       "      <td>1371915</td>\n",
       "      <td>[[1, 0, 1966], [5, 0, 1160], [6, 0, 1334], [5,...</td>\n",
       "    </tr>\n",
       "    <tr>\n",
       "      <th>1</th>\n",
       "      <td>1172922</td>\n",
       "      <td>[[1, 1, 578], [0, 0, 1114], [0, 0, 612], [0, 0...</td>\n",
       "    </tr>\n",
       "    <tr>\n",
       "      <th>2</th>\n",
       "      <td>999554</td>\n",
       "      <td>[[2, 0, 2913], [4, 2, 1550], [3, 2, 7587], [2,...</td>\n",
       "    </tr>\n",
       "    <tr>\n",
       "      <th>3</th>\n",
       "      <td>998406</td>\n",
       "      <td>[[1, 9, 1270], [1, 0, 1196], [1, 1, 798]]</td>\n",
       "    </tr>\n",
       "    <tr>\n",
       "      <th>4</th>\n",
       "      <td>994252</td>\n",
       "      <td>[[4, 0, 1685], [2, 0, 1429], [1, 0, 6850], [1,...</td>\n",
       "    </tr>\n",
       "    <tr>\n",
       "      <th>...</th>\n",
       "      <td>...</td>\n",
       "      <td>...</td>\n",
       "    </tr>\n",
       "    <tr>\n",
       "      <th>4890</th>\n",
       "      <td>1004</td>\n",
       "      <td>[[0, 0, 468]]</td>\n",
       "    </tr>\n",
       "    <tr>\n",
       "      <th>4891</th>\n",
       "      <td>1003</td>\n",
       "      <td>[[0, 0, 504], [3, 2, 611], [0, 0, 815], [1, 2,...</td>\n",
       "    </tr>\n",
       "    <tr>\n",
       "      <th>4892</th>\n",
       "      <td>1002</td>\n",
       "      <td>[[1, 0, 689]]</td>\n",
       "    </tr>\n",
       "    <tr>\n",
       "      <th>4893</th>\n",
       "      <td>1001</td>\n",
       "      <td>[[0, 0, 126]]</td>\n",
       "    </tr>\n",
       "    <tr>\n",
       "      <th>4894</th>\n",
       "      <td>1001</td>\n",
       "      <td>[[0, 0, 830]]</td>\n",
       "    </tr>\n",
       "  </tbody>\n",
       "</table>\n",
       "<p>4895 rows × 2 columns</p>\n",
       "</div>"
      ],
      "text/plain": [
       "     reputation                                            answers\n",
       "0       1371915  [[1, 0, 1966], [5, 0, 1160], [6, 0, 1334], [5,...\n",
       "1       1172922  [[1, 1, 578], [0, 0, 1114], [0, 0, 612], [0, 0...\n",
       "2        999554  [[2, 0, 2913], [4, 2, 1550], [3, 2, 7587], [2,...\n",
       "3        998406          [[1, 9, 1270], [1, 0, 1196], [1, 1, 798]]\n",
       "4        994252  [[4, 0, 1685], [2, 0, 1429], [1, 0, 6850], [1,...\n",
       "...         ...                                                ...\n",
       "4890       1004                                      [[0, 0, 468]]\n",
       "4891       1003  [[0, 0, 504], [3, 2, 611], [0, 0, 815], [1, 2,...\n",
       "4892       1002                                      [[1, 0, 689]]\n",
       "4893       1001                                      [[0, 0, 126]]\n",
       "4894       1001                                      [[0, 0, 830]]\n",
       "\n",
       "[4895 rows x 2 columns]"
      ]
     },
     "metadata": {},
     "output_type": "display_data"
    }
   ],
   "source": [
    "dataset=dataset.sort_values(by=['reputation'], ascending=False)\n",
    "dataset=dataset.reset_index(drop=True)\n",
    "dataset.to_csv('combined_dataset.csv', index=False);\n",
    "display(dataset)"
   ]
  },
  {
   "cell_type": "markdown",
   "id": "ec21fdb7-e6b7-4431-b8d5-63c912c3becb",
   "metadata": {},
   "source": [
    "### Notes about queried datasets\n",
    "The data from [StackExchange](https://data.stackexchange.com/stackoverflow/query/new) was queried using the following commands: \n",
    "\n",
    "- [Answer Query](https://data.stackexchange.com/stackoverflow/query/1683041/answer-posts-version-2)\n",
    "- [User Query](https://data.stackexchange.com/stackoverflow/query/1683058/user-data-set-4)\n",
    "\n",
    "The scope of these queries have been adjusted to ensure greater chances of the 50,000 users queried (max allowed) match the 50,000 queried answers."
   ]
  },
  {
   "cell_type": "markdown",
   "id": "7e8b4c64-98b0-4d57-a4f6-cbe6225fc816",
   "metadata": {},
   "source": [
    "## Key statistics"
   ]
  },
  {
   "cell_type": "markdown",
   "id": "4ec3e6e6-0ac6-488a-b5ab-ef97e7db32b5",
   "metadata": {},
   "source": [
    "### Create table to store statistics \n",
    "This table with have rows denoting the top 100 reputed users and all other users (not including the top 100) stats. It will contain columns\n",
    "- average reputation (avg rep): the average reputation of a user\n",
    "- median reputation (median rep): the median reputation of the users\n",
    "- reputation mode (mode rep): the mode of the users' reputations\n",
    "- average number of answers (avg # answers): the average number of answers a user has written\n",
    "- average score (avg score): the average score of a user's answer\n",
    "- average number of comments (avg # comment): the average number of comments a user's answer gets\n",
    "- average length (avg length): the average length of a user's answer"
   ]
  },
  {
   "cell_type": "code",
   "execution_count": 6,
   "id": "af4bd70a-7434-4e9f-8d26-84ef56b94f0f",
   "metadata": {},
   "outputs": [],
   "source": [
    "stats = pd.DataFrame(columns = ['avg rep', 'median rep', 'mode rep', 'avg # answers','avg score', 'avg # comment', 'avg length'], index = ['top 100', 'everyone else'])"
   ]
  },
  {
   "cell_type": "markdown",
   "id": "02a60934-9544-4e7b-b85d-eef42180f5c8",
   "metadata": {},
   "source": [
    "#### Reputation Stats"
   ]
  },
  {
   "cell_type": "code",
   "execution_count": 7,
   "id": "848144db-2249-4619-9d15-2dff008f352b",
   "metadata": {},
   "outputs": [],
   "source": [
    "# Computate and store each of the reputation stat entries\n",
    "stats.loc['top 100','avg rep'] = sum(dataset.iloc[:100,0])//100\n",
    "stats.loc['top 100','median rep'] = dataset.iloc[49,0]\n",
    "stats.loc['top 100','mode rep'] = dataset.iloc[0,0] - dataset.iloc[99,0]\n",
    "\n",
    "stats.loc['everyone else','avg rep'] = sum(dataset.iloc[100:,0])//dataset.shape[0]\n",
    "stats.loc['everyone else','median rep'] = dataset.iloc[(dataset.shape[0]-100)//2+100,0]\n",
    "stats.loc['everyone else','mode rep'] = dataset.iloc[100,0] - dataset.iloc[dataset.shape[0]-1,0]"
   ]
  },
  {
   "cell_type": "markdown",
   "id": "915bb0cb-34e2-44e4-93bf-0868807e5b20",
   "metadata": {},
   "source": [
    "#### Comment Stats"
   ]
  },
  {
   "cell_type": "code",
   "execution_count": 8,
   "id": "0396ee3c-071f-4bdb-b32d-0b171bd6b1a0",
   "metadata": {},
   "outputs": [],
   "source": [
    "# Helper method used to find the average stat value within a group of users\n",
    "def stat_sum_avg(size, stat_index, offset):\n",
    "    total = 0\n",
    "    counter = 0\n",
    "    for i in range(size):\n",
    "        user_answer_stats = dataset.iloc[i+offset, 1]\n",
    "        for j in range(len(user_answer_stats)):\n",
    "            counter+=1\n",
    "            total += user_answer_stats[j][stat_index]\n",
    "    return total/counter"
   ]
  },
  {
   "cell_type": "code",
   "execution_count": 9,
   "id": "6d96ff5f-7657-4a2d-9b6f-32558940e4b0",
   "metadata": {},
   "outputs": [],
   "source": [
    "stats.loc['top 100','avg score'] = stat_sum_avg(100, 0, 0)\n",
    "stats.loc['top 100','avg # comment'] = stat_sum_avg(100, 1, 0)\n",
    "stats.loc['top 100','avg length'] = stat_sum_avg(100, 2, 0)\n",
    "\n",
    "stats.loc['everyone else','avg score'] = stat_sum_avg(dataset.shape[0]-100, 0, 100)\n",
    "stats.loc['everyone else','avg # comment'] = stat_sum_avg(dataset.shape[0]-100, 1, 100)\n",
    "stats.loc['everyone else','avg length'] = stat_sum_avg(dataset.shape[0]-100, 2, 100)"
   ]
  },
  {
   "cell_type": "code",
   "execution_count": 10,
   "id": "921b5656-60ae-4fff-a3bc-7aa50bf55836",
   "metadata": {},
   "outputs": [],
   "source": [
    "# Helper method used to find the total number of comments written by a group of users\n",
    "def num_comments(size, offset):\n",
    "    total = 0\n",
    "    for i in range(size):\n",
    "        user_answer_stats = dataset.iloc[i + offset, 1]\n",
    "        total += len(user_answer_stats)\n",
    "    return total"
   ]
  },
  {
   "cell_type": "code",
   "execution_count": 11,
   "id": "995c2d5f-d6bc-45bf-9e6e-d782a9518887",
   "metadata": {},
   "outputs": [],
   "source": [
    "stats.loc['top 100','avg # answers'] = num_comments(100, 0)//100\n",
    "stats.loc['everyone else','avg # answers'] = num_comments(dataset.shape[0]-100, 100)//dataset.shape[0]"
   ]
  },
  {
   "cell_type": "markdown",
   "id": "8c6a5738-cb95-4240-a4fc-998fdc0c1c2d",
   "metadata": {},
   "source": [
    "#### Stats and interpretation"
   ]
  },
  {
   "cell_type": "code",
   "execution_count": 12,
   "id": "bac2ffd7-30c9-45d3-935d-27101ad6cd70",
   "metadata": {},
   "outputs": [
    {
     "data": {
      "text/html": [
       "<div>\n",
       "<style scoped>\n",
       "    .dataframe tbody tr th:only-of-type {\n",
       "        vertical-align: middle;\n",
       "    }\n",
       "\n",
       "    .dataframe tbody tr th {\n",
       "        vertical-align: top;\n",
       "    }\n",
       "\n",
       "    .dataframe thead th {\n",
       "        text-align: right;\n",
       "    }\n",
       "</style>\n",
       "<table border=\"1\" class=\"dataframe\">\n",
       "  <thead>\n",
       "    <tr style=\"text-align: right;\">\n",
       "      <th></th>\n",
       "      <th>avg rep</th>\n",
       "      <th>median rep</th>\n",
       "      <th>mode rep</th>\n",
       "      <th>avg # answers</th>\n",
       "      <th>avg score</th>\n",
       "      <th>avg # comment</th>\n",
       "      <th>avg length</th>\n",
       "    </tr>\n",
       "  </thead>\n",
       "  <tbody>\n",
       "    <tr>\n",
       "      <th>top 100</th>\n",
       "      <td>426661</td>\n",
       "      <td>354782</td>\n",
       "      <td>1149657</td>\n",
       "      <td>13</td>\n",
       "      <td>1.13</td>\n",
       "      <td>1.29</td>\n",
       "      <td>1,442.98</td>\n",
       "    </tr>\n",
       "    <tr>\n",
       "      <th>everyone else</th>\n",
       "      <td>17632</td>\n",
       "      <td>5771</td>\n",
       "      <td>220296</td>\n",
       "      <td>3</td>\n",
       "      <td>0.69</td>\n",
       "      <td>1.02</td>\n",
       "      <td>1,287.70</td>\n",
       "    </tr>\n",
       "  </tbody>\n",
       "</table>\n",
       "</div>"
      ],
      "text/plain": [
       "              avg rep median rep mode rep avg # answers avg score  \\\n",
       "top 100        426661     354782  1149657            13      1.13   \n",
       "everyone else   17632       5771   220296             3      0.69   \n",
       "\n",
       "              avg # comment avg length  \n",
       "top 100                1.29   1,442.98  \n",
       "everyone else          1.02   1,287.70  "
      ]
     },
     "metadata": {},
     "output_type": "display_data"
    }
   ],
   "source": [
    "display(stats)"
   ]
  },
  {
   "cell_type": "markdown",
   "id": "e4486755-a8b2-4ff2-9a8f-ee0768995d5a",
   "metadata": {},
   "source": [
    "##### Noteworthy Observations\n",
    "- The median is lower than the average reputation for both the top 100 users and everyone else. This means that top users of each group are pulling up the average. Alternatively, lower ranked users of each group are pulling down the average. Notably, the discrepency in average and median is larger for the top 100. \n",
    "\n",
    "- The range of reputation level (mode of reputation) is larger for the top 100 than the everyone else.\n",
    "\n",
    "- Top 100 users write, on average, 10 more answers than everyone else. This is to be expected as one needs to do more to get more reputation.\n",
    "\n",
    "- Crucially, the average score of the top 100 is almost double that of everyone else.\n",
    "\n",
    "- Top users, on average, write slightly more than everyone else."
   ]
  },
  {
   "cell_type": "markdown",
   "id": "7bab3555-279a-43b6-8f85-659db7e5ddd3",
   "metadata": {
    "tags": []
   },
   "source": [
    "##### What does this mean?\n",
    "Generally speaking, top users write more higher scored answers than everyone else.\n",
    "\n",
    "Associated Project Write-up: [*Stack Overflow*: Does Reputation Indicate a Better Answer?](https://docs.google.com/document/d/1MeUrkDXiqXJQ4aoUsPcXUYh1XqN4l1qP/edit?usp=sharing&ouid=100247400743504583876&rtpof=true&sd=true)\n",
    "\n",
    "Github Repo: [Stack_Overflow_User_Dataset](https://github.com/GreyHeartedKait/Stack_Overflow_User_Dataset)"
   ]
  }
 ],
 "metadata": {
  "kernelspec": {
   "display_name": "Python 3 (ipykernel)",
   "language": "python",
   "name": "python3"
  },
  "language_info": {
   "codemirror_mode": {
    "name": "ipython",
    "version": 3
   },
   "file_extension": ".py",
   "mimetype": "text/x-python",
   "name": "python",
   "nbconvert_exporter": "python",
   "pygments_lexer": "ipython3",
   "version": "3.9.7"
  }
 },
 "nbformat": 4,
 "nbformat_minor": 5
}
