{
 "cells": [
  {
   "cell_type": "markdown",
   "id": "4d3cae4f-cae4-4302-9189-b0a80d58e195",
   "metadata": {},
   "source": [
    "Read in all data from StackExchange query."
   ]
  },
  {
   "cell_type": "code",
   "execution_count": 1,
   "id": "207d115c-685d-4eb5-b303-0b8bb94ffc87",
   "metadata": {},
   "outputs": [],
   "source": [
    "import pandas as pd\n",
    "user_data = 'Final Project/user_dataset_3.csv'\n",
    "answer_data = 'Final Project/Answer_Dataset.csv'\n",
    "users = pd.read_csv(user_data)\n",
    "answers = pd.read_csv(answer_data)\n",
    "\n",
    "dataset = pd.DataFrame(columns = ['reputation', 'answers'])"
   ]
  },
  {
   "cell_type": "markdown",
   "id": "2de8dfcd-f2e1-406f-8fb0-b182a8fb79d5",
   "metadata": {},
   "source": [
    "Create Final Dataframe"
   ]
  },
  {
   "cell_type": "code",
   "execution_count": 37,
   "id": "a20f8627-6c88-46b0-a686-c688c4550a3b",
   "metadata": {},
   "outputs": [],
   "source": [
    "for i in range(users.shape[0]):\n",
    "    idfilter = answers['owneruserid'].isin([users.iloc[i,0]])\n",
    "    users_answers = answers[idfilter]\n",
    "    answers_list = []\n",
    "    for j in range(users_answers.shape[0]):\n",
    "        single_answer = [users_answers.iloc[j, 1], users_answers.iloc[j, 2], len(users_answers.iloc[j,4])]\n",
    "        answers_list.append(single_answer)\n",
    "    if len(answers_list) > 0:\n",
    "        dataset=dataset.append({'reputation': users.iloc[i,1], 'answers': answers_list}, ignore_index = True)"
   ]
  },
  {
   "cell_type": "code",
   "execution_count": 38,
   "id": "6f442d87-d498-486f-a959-dc1942849cdd",
   "metadata": {},
   "outputs": [
    {
     "data": {
      "text/html": [
       "<div>\n",
       "<style scoped>\n",
       "    .dataframe tbody tr th:only-of-type {\n",
       "        vertical-align: middle;\n",
       "    }\n",
       "\n",
       "    .dataframe tbody tr th {\n",
       "        vertical-align: top;\n",
       "    }\n",
       "\n",
       "    .dataframe thead th {\n",
       "        text-align: right;\n",
       "    }\n",
       "</style>\n",
       "<table border=\"1\" class=\"dataframe\">\n",
       "  <thead>\n",
       "    <tr style=\"text-align: right;\">\n",
       "      <th></th>\n",
       "      <th>reputation</th>\n",
       "      <th>answers</th>\n",
       "    </tr>\n",
       "  </thead>\n",
       "  <tbody>\n",
       "    <tr>\n",
       "      <th>0</th>\n",
       "      <td>6766</td>\n",
       "      <td>[[11, 1, 139], [25, 3, 336], [84, 3, 252], [54...</td>\n",
       "    </tr>\n",
       "    <tr>\n",
       "      <th>1</th>\n",
       "      <td>6766</td>\n",
       "      <td>[[11, 1, 139], [25, 3, 336], [84, 3, 252], [54...</td>\n",
       "    </tr>\n",
       "    <tr>\n",
       "      <th>2</th>\n",
       "      <td>6766</td>\n",
       "      <td>[[11, 1, 139], [25, 3, 336], [84, 3, 252], [54...</td>\n",
       "    </tr>\n",
       "    <tr>\n",
       "      <th>3</th>\n",
       "      <td>56603</td>\n",
       "      <td>[[15, 3, 818]]</td>\n",
       "    </tr>\n",
       "    <tr>\n",
       "      <th>4</th>\n",
       "      <td>499896</td>\n",
       "      <td>[[32, 0, 305], [78, 4, 643]]</td>\n",
       "    </tr>\n",
       "    <tr>\n",
       "      <th>...</th>\n",
       "      <td>...</td>\n",
       "      <td>...</td>\n",
       "    </tr>\n",
       "    <tr>\n",
       "      <th>7368</th>\n",
       "      <td>6762</td>\n",
       "      <td>[[11, 2, 421]]</td>\n",
       "    </tr>\n",
       "    <tr>\n",
       "      <th>7369</th>\n",
       "      <td>3213</td>\n",
       "      <td>[[288, 4, 88]]</td>\n",
       "    </tr>\n",
       "    <tr>\n",
       "      <th>7370</th>\n",
       "      <td>7228</td>\n",
       "      <td>[[15, 0, 852]]</td>\n",
       "    </tr>\n",
       "    <tr>\n",
       "      <th>7371</th>\n",
       "      <td>2010</td>\n",
       "      <td>[[11, 0, 343], [17, 1, 811]]</td>\n",
       "    </tr>\n",
       "    <tr>\n",
       "      <th>7372</th>\n",
       "      <td>7831</td>\n",
       "      <td>[[53, 14, 445], [15, 4, 694], [11, 0, 1725]]</td>\n",
       "    </tr>\n",
       "  </tbody>\n",
       "</table>\n",
       "<p>7373 rows × 2 columns</p>\n",
       "</div>"
      ],
      "text/plain": [
       "     reputation                                            answers\n",
       "0          6766  [[11, 1, 139], [25, 3, 336], [84, 3, 252], [54...\n",
       "1          6766  [[11, 1, 139], [25, 3, 336], [84, 3, 252], [54...\n",
       "2          6766  [[11, 1, 139], [25, 3, 336], [84, 3, 252], [54...\n",
       "3         56603                                     [[15, 3, 818]]\n",
       "4        499896                       [[32, 0, 305], [78, 4, 643]]\n",
       "...         ...                                                ...\n",
       "7368       6762                                     [[11, 2, 421]]\n",
       "7369       3213                                     [[288, 4, 88]]\n",
       "7370       7228                                     [[15, 0, 852]]\n",
       "7371       2010                       [[11, 0, 343], [17, 1, 811]]\n",
       "7372       7831       [[53, 14, 445], [15, 4, 694], [11, 0, 1725]]\n",
       "\n",
       "[7373 rows x 2 columns]"
      ]
     },
     "metadata": {},
     "output_type": "display_data"
    }
   ],
   "source": [
    "display(dataset)"
   ]
  },
  {
   "cell_type": "code",
   "execution_count": 43,
   "id": "46e4fcf9-5b4d-477b-8f84-899e6498c641",
   "metadata": {},
   "outputs": [],
   "source": [
    "dataset.to_csv('combined_dataset.csv', index=False);"
   ]
  }
 ],
 "metadata": {
  "kernelspec": {
   "display_name": "Python 3 (ipykernel)",
   "language": "python",
   "name": "python3"
  },
  "language_info": {
   "codemirror_mode": {
    "name": "ipython",
    "version": 3
   },
   "file_extension": ".py",
   "mimetype": "text/x-python",
   "name": "python",
   "nbconvert_exporter": "python",
   "pygments_lexer": "ipython3",
   "version": "3.9.7"
  }
 },
 "nbformat": 4,
 "nbformat_minor": 5
}
